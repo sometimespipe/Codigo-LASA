{
 "cells": [
  {
   "cell_type": "markdown",
   "id": "77d3af8a",
   "metadata": {},
   "source": [
    "### Imports"
   ]
  },
  {
   "cell_type": "code",
   "execution_count": 1,
   "id": "37731ad2",
   "metadata": {},
   "outputs": [],
   "source": [
    "import pandas as pd\n",
    "import statsmodels.api as sm\n",
    "from statsmodels.formula.api import ols\n",
    "from statsmodels.stats.anova import anova_lm\n",
    "from statsmodels.graphics.factorplots import interaction_plot\n",
    "import matplotlib.pyplot as plt"
   ]
  },
  {
   "cell_type": "code",
   "execution_count": 2,
   "id": "43e02b9e",
   "metadata": {},
   "outputs": [
    {
     "name": "stdout",
     "output_type": "stream",
     "text": [
      "Requirement already satisfied: pyDOE2 in /opt/anaconda3/lib/python3.7/site-packages (1.3.0)\r\n",
      "Requirement already satisfied: scipy in /opt/anaconda3/lib/python3.7/site-packages (from pyDOE2) (1.6.2)\r\n",
      "Requirement already satisfied: numpy in /opt/anaconda3/lib/python3.7/site-packages (from pyDOE2) (1.19.2)\r\n"
     ]
    }
   ],
   "source": [
    "! pip install pyDOE2 #instalación de pyDOE2 local"
   ]
  },
  {
   "cell_type": "code",
   "execution_count": 3,
   "id": "131523ac",
   "metadata": {},
   "outputs": [],
   "source": [
    "import pyDOE2"
   ]
  },
  {
   "cell_type": "code",
   "execution_count": 4,
   "id": "ce648eb6",
   "metadata": {},
   "outputs": [
    {
     "data": {
      "text/html": [
       "<div>\n",
       "<style scoped>\n",
       "    .dataframe tbody tr th:only-of-type {\n",
       "        vertical-align: middle;\n",
       "    }\n",
       "\n",
       "    .dataframe tbody tr th {\n",
       "        vertical-align: top;\n",
       "    }\n",
       "\n",
       "    .dataframe thead th {\n",
       "        text-align: right;\n",
       "    }\n",
       "</style>\n",
       "<table border=\"1\" class=\"dataframe\">\n",
       "  <thead>\n",
       "    <tr style=\"text-align: right;\">\n",
       "      <th></th>\n",
       "      <th>A</th>\n",
       "      <th>B</th>\n",
       "      <th>C</th>\n",
       "    </tr>\n",
       "  </thead>\n",
       "  <tbody>\n",
       "    <tr>\n",
       "      <th>0</th>\n",
       "      <td>-1.0</td>\n",
       "      <td>-1.0</td>\n",
       "      <td>1.0</td>\n",
       "    </tr>\n",
       "    <tr>\n",
       "      <th>1</th>\n",
       "      <td>1.0</td>\n",
       "      <td>-1.0</td>\n",
       "      <td>-1.0</td>\n",
       "    </tr>\n",
       "    <tr>\n",
       "      <th>2</th>\n",
       "      <td>-1.0</td>\n",
       "      <td>1.0</td>\n",
       "      <td>-1.0</td>\n",
       "    </tr>\n",
       "    <tr>\n",
       "      <th>3</th>\n",
       "      <td>1.0</td>\n",
       "      <td>1.0</td>\n",
       "      <td>1.0</td>\n",
       "    </tr>\n",
       "  </tbody>\n",
       "</table>\n",
       "</div>"
      ],
      "text/plain": [
       "     A    B    C\n",
       "0 -1.0 -1.0  1.0\n",
       "1  1.0 -1.0 -1.0\n",
       "2 -1.0  1.0 -1.0\n",
       "3  1.0  1.0  1.0"
      ]
     },
     "execution_count": 4,
     "metadata": {},
     "output_type": "execute_result"
    }
   ],
   "source": [
    "#Se escribe p de planeamiento de los niveles del factor a emplear en las observaciones.\n",
    "\n",
    "p = pyDOE2.fracfact('A B AB') # dimensión de la tabla para una fracción de resolución III\n",
    "p = pd.DataFrame(p, columns=['A', 'B', 'C']) #factores \n",
    "p"
   ]
  },
  {
   "cell_type": "markdown",
   "id": "7bd37105",
   "metadata": {},
   "source": [
    "Como se observa cada fila se refiere a cada tratamiento a realizar y las columnas a los factores. El uno positivo y negativo son los niveles de cada factor correspondiente. Se debe recordar que la ejecución de cada experimento es de forma aleatoria, es decir, agarrar la columna izquierda que va de 0-3 y aleatorizar el orden."
   ]
  },
  {
   "cell_type": "markdown",
   "id": "3c57d030",
   "metadata": {},
   "source": [
    "### Adición de resultados a la tabla"
   ]
  },
  {
   "cell_type": "code",
   "execution_count": 5,
   "id": "b9356378",
   "metadata": {
    "scrolled": true
   },
   "outputs": [
    {
     "data": {
      "text/html": [
       "<div>\n",
       "<style scoped>\n",
       "    .dataframe tbody tr th:only-of-type {\n",
       "        vertical-align: middle;\n",
       "    }\n",
       "\n",
       "    .dataframe tbody tr th {\n",
       "        vertical-align: top;\n",
       "    }\n",
       "\n",
       "    .dataframe thead th {\n",
       "        text-align: right;\n",
       "    }\n",
       "</style>\n",
       "<table border=\"1\" class=\"dataframe\">\n",
       "  <thead>\n",
       "    <tr style=\"text-align: right;\">\n",
       "      <th></th>\n",
       "      <th>A</th>\n",
       "      <th>B</th>\n",
       "      <th>C</th>\n",
       "      <th>resultados</th>\n",
       "    </tr>\n",
       "  </thead>\n",
       "  <tbody>\n",
       "    <tr>\n",
       "      <th>0</th>\n",
       "      <td>-1.0</td>\n",
       "      <td>-1.0</td>\n",
       "      <td>1.0</td>\n",
       "      <td>73</td>\n",
       "    </tr>\n",
       "    <tr>\n",
       "      <th>1</th>\n",
       "      <td>1.0</td>\n",
       "      <td>-1.0</td>\n",
       "      <td>-1.0</td>\n",
       "      <td>90</td>\n",
       "    </tr>\n",
       "    <tr>\n",
       "      <th>2</th>\n",
       "      <td>-1.0</td>\n",
       "      <td>1.0</td>\n",
       "      <td>-1.0</td>\n",
       "      <td>19</td>\n",
       "    </tr>\n",
       "    <tr>\n",
       "      <th>3</th>\n",
       "      <td>1.0</td>\n",
       "      <td>1.0</td>\n",
       "      <td>1.0</td>\n",
       "      <td>43</td>\n",
       "    </tr>\n",
       "  </tbody>\n",
       "</table>\n",
       "</div>"
      ],
      "text/plain": [
       "     A    B    C  resultados\n",
       "0 -1.0 -1.0  1.0          73\n",
       "1  1.0 -1.0 -1.0          90\n",
       "2 -1.0  1.0 -1.0          19\n",
       "3  1.0  1.0  1.0          43"
      ]
     },
     "execution_count": 5,
     "metadata": {},
     "output_type": "execute_result"
    }
   ],
   "source": [
    "#Al obtener los resultados en el laboratorio se computan en la tabla anterior como sigue:\n",
    "p['resultados']=[73, 90, 19, 43]\n",
    "p"
   ]
  },
  {
   "cell_type": "markdown",
   "id": "741bbb06",
   "metadata": {},
   "source": [
    "### Implementación de ANOVA en experimentos de fracciones factoriales\n"
   ]
  },
  {
   "cell_type": "code",
   "execution_count": 6,
   "id": "e4fd0117",
   "metadata": {},
   "outputs": [
    {
     "name": "stderr",
     "output_type": "stream",
     "text": [
      "/opt/anaconda3/lib/python3.7/site-packages/statsmodels/stats/anova.py:138: RuntimeWarning: divide by zero encountered in double_scalars\n",
      "  (model.ssr / model.df_resid))\n"
     ]
    },
    {
     "data": {
      "text/html": [
       "<div>\n",
       "<style scoped>\n",
       "    .dataframe tbody tr th:only-of-type {\n",
       "        vertical-align: middle;\n",
       "    }\n",
       "\n",
       "    .dataframe tbody tr th {\n",
       "        vertical-align: top;\n",
       "    }\n",
       "\n",
       "    .dataframe thead th {\n",
       "        text-align: right;\n",
       "    }\n",
       "</style>\n",
       "<table border=\"1\" class=\"dataframe\">\n",
       "  <thead>\n",
       "    <tr style=\"text-align: right;\">\n",
       "      <th></th>\n",
       "      <th>df</th>\n",
       "      <th>sum_sq</th>\n",
       "      <th>mean_sq</th>\n",
       "      <th>F</th>\n",
       "      <th>PR(&gt;F)</th>\n",
       "    </tr>\n",
       "  </thead>\n",
       "  <tbody>\n",
       "    <tr>\n",
       "      <th>A</th>\n",
       "      <td>1.0</td>\n",
       "      <td>4.202500e+02</td>\n",
       "      <td>420.25</td>\n",
       "      <td>0.0</td>\n",
       "      <td>NaN</td>\n",
       "    </tr>\n",
       "    <tr>\n",
       "      <th>B</th>\n",
       "      <td>1.0</td>\n",
       "      <td>2.550250e+03</td>\n",
       "      <td>2550.25</td>\n",
       "      <td>0.0</td>\n",
       "      <td>NaN</td>\n",
       "    </tr>\n",
       "    <tr>\n",
       "      <th>C</th>\n",
       "      <td>1.0</td>\n",
       "      <td>1.225000e+01</td>\n",
       "      <td>12.25</td>\n",
       "      <td>0.0</td>\n",
       "      <td>NaN</td>\n",
       "    </tr>\n",
       "    <tr>\n",
       "      <th>Residual</th>\n",
       "      <td>0.0</td>\n",
       "      <td>2.524355e-28</td>\n",
       "      <td>inf</td>\n",
       "      <td>NaN</td>\n",
       "      <td>NaN</td>\n",
       "    </tr>\n",
       "  </tbody>\n",
       "</table>\n",
       "</div>"
      ],
      "text/plain": [
       "           df        sum_sq  mean_sq    F  PR(>F)\n",
       "A         1.0  4.202500e+02   420.25  0.0     NaN\n",
       "B         1.0  2.550250e+03  2550.25  0.0     NaN\n",
       "C         1.0  1.225000e+01    12.25  0.0     NaN\n",
       "Residual  0.0  2.524355e-28      inf  NaN     NaN"
      ]
     },
     "execution_count": 6,
     "metadata": {},
     "output_type": "execute_result"
    }
   ],
   "source": [
    "mod = ols('resultados~A+B+C', p).fit()\n",
    "anova = sm.stats.anova_lm(mod)\n",
    "anova\n",
    "\n",
    "# Ocurre este error porque hay una cantidad muy pequeña de observaciones, sin embargo, \n",
    "# se puede analizar desde otra perspectiva"
   ]
  },
  {
   "cell_type": "markdown",
   "id": "0f1b2286",
   "metadata": {},
   "source": [
    "### ANOVA de alias "
   ]
  },
  {
   "cell_type": "markdown",
   "id": "77b407ca",
   "metadata": {},
   "source": [
    "#### Alias de A"
   ]
  },
  {
   "cell_type": "code",
   "execution_count": 7,
   "id": "08626589",
   "metadata": {
    "scrolled": true
   },
   "outputs": [
    {
     "data": {
      "text/html": [
       "<div>\n",
       "<style scoped>\n",
       "    .dataframe tbody tr th:only-of-type {\n",
       "        vertical-align: middle;\n",
       "    }\n",
       "\n",
       "    .dataframe tbody tr th {\n",
       "        vertical-align: top;\n",
       "    }\n",
       "\n",
       "    .dataframe thead th {\n",
       "        text-align: right;\n",
       "    }\n",
       "</style>\n",
       "<table border=\"1\" class=\"dataframe\">\n",
       "  <thead>\n",
       "    <tr style=\"text-align: right;\">\n",
       "      <th></th>\n",
       "      <th>df</th>\n",
       "      <th>sum_sq</th>\n",
       "      <th>mean_sq</th>\n",
       "      <th>F</th>\n",
       "      <th>PR(&gt;F)</th>\n",
       "    </tr>\n",
       "  </thead>\n",
       "  <tbody>\n",
       "    <tr>\n",
       "      <th>B</th>\n",
       "      <td>1.0</td>\n",
       "      <td>2550.25</td>\n",
       "      <td>2550.25</td>\n",
       "      <td>6.068412</td>\n",
       "      <td>0.245491</td>\n",
       "    </tr>\n",
       "    <tr>\n",
       "      <th>C</th>\n",
       "      <td>1.0</td>\n",
       "      <td>12.25</td>\n",
       "      <td>12.25</td>\n",
       "      <td>0.029149</td>\n",
       "      <td>0.892347</td>\n",
       "    </tr>\n",
       "    <tr>\n",
       "      <th>Residual</th>\n",
       "      <td>1.0</td>\n",
       "      <td>420.25</td>\n",
       "      <td>420.25</td>\n",
       "      <td>NaN</td>\n",
       "      <td>NaN</td>\n",
       "    </tr>\n",
       "  </tbody>\n",
       "</table>\n",
       "</div>"
      ],
      "text/plain": [
       "           df   sum_sq  mean_sq         F    PR(>F)\n",
       "B         1.0  2550.25  2550.25  6.068412  0.245491\n",
       "C         1.0    12.25    12.25  0.029149  0.892347\n",
       "Residual  1.0   420.25   420.25       NaN       NaN"
      ]
     },
     "execution_count": 7,
     "metadata": {},
     "output_type": "execute_result"
    }
   ],
   "source": [
    "mod = ols('resultados~B+C', p).fit()\n",
    "anova = sm.stats.anova_lm(mod)\n",
    "anova"
   ]
  },
  {
   "cell_type": "markdown",
   "id": "52dd1489",
   "metadata": {},
   "source": [
    "#### Alias de B"
   ]
  },
  {
   "cell_type": "code",
   "execution_count": 8,
   "id": "fe93f3d3",
   "metadata": {},
   "outputs": [
    {
     "data": {
      "text/html": [
       "<div>\n",
       "<style scoped>\n",
       "    .dataframe tbody tr th:only-of-type {\n",
       "        vertical-align: middle;\n",
       "    }\n",
       "\n",
       "    .dataframe tbody tr th {\n",
       "        vertical-align: top;\n",
       "    }\n",
       "\n",
       "    .dataframe thead th {\n",
       "        text-align: right;\n",
       "    }\n",
       "</style>\n",
       "<table border=\"1\" class=\"dataframe\">\n",
       "  <thead>\n",
       "    <tr style=\"text-align: right;\">\n",
       "      <th></th>\n",
       "      <th>df</th>\n",
       "      <th>sum_sq</th>\n",
       "      <th>mean_sq</th>\n",
       "      <th>F</th>\n",
       "      <th>PR(&gt;F)</th>\n",
       "    </tr>\n",
       "  </thead>\n",
       "  <tbody>\n",
       "    <tr>\n",
       "      <th>A</th>\n",
       "      <td>1.0</td>\n",
       "      <td>420.25</td>\n",
       "      <td>420.25</td>\n",
       "      <td>0.164788</td>\n",
       "      <td>0.754509</td>\n",
       "    </tr>\n",
       "    <tr>\n",
       "      <th>C</th>\n",
       "      <td>1.0</td>\n",
       "      <td>12.25</td>\n",
       "      <td>12.25</td>\n",
       "      <td>0.004803</td>\n",
       "      <td>0.955948</td>\n",
       "    </tr>\n",
       "    <tr>\n",
       "      <th>Residual</th>\n",
       "      <td>1.0</td>\n",
       "      <td>2550.25</td>\n",
       "      <td>2550.25</td>\n",
       "      <td>NaN</td>\n",
       "      <td>NaN</td>\n",
       "    </tr>\n",
       "  </tbody>\n",
       "</table>\n",
       "</div>"
      ],
      "text/plain": [
       "           df   sum_sq  mean_sq         F    PR(>F)\n",
       "A         1.0   420.25   420.25  0.164788  0.754509\n",
       "C         1.0    12.25    12.25  0.004803  0.955948\n",
       "Residual  1.0  2550.25  2550.25       NaN       NaN"
      ]
     },
     "execution_count": 8,
     "metadata": {},
     "output_type": "execute_result"
    }
   ],
   "source": [
    "mod = ols('resultados~A+C', p).fit()\n",
    "anova = sm.stats.anova_lm(mod)\n",
    "anova"
   ]
  },
  {
   "cell_type": "markdown",
   "id": "7160bcd2",
   "metadata": {},
   "source": [
    "#### Alias de C"
   ]
  },
  {
   "cell_type": "code",
   "execution_count": 9,
   "id": "d6fe1153",
   "metadata": {},
   "outputs": [
    {
     "data": {
      "text/html": [
       "<div>\n",
       "<style scoped>\n",
       "    .dataframe tbody tr th:only-of-type {\n",
       "        vertical-align: middle;\n",
       "    }\n",
       "\n",
       "    .dataframe tbody tr th {\n",
       "        vertical-align: top;\n",
       "    }\n",
       "\n",
       "    .dataframe thead th {\n",
       "        text-align: right;\n",
       "    }\n",
       "</style>\n",
       "<table border=\"1\" class=\"dataframe\">\n",
       "  <thead>\n",
       "    <tr style=\"text-align: right;\">\n",
       "      <th></th>\n",
       "      <th>df</th>\n",
       "      <th>sum_sq</th>\n",
       "      <th>mean_sq</th>\n",
       "      <th>F</th>\n",
       "      <th>PR(&gt;F)</th>\n",
       "    </tr>\n",
       "  </thead>\n",
       "  <tbody>\n",
       "    <tr>\n",
       "      <th>A</th>\n",
       "      <td>1.0</td>\n",
       "      <td>420.25</td>\n",
       "      <td>420.25</td>\n",
       "      <td>34.306122</td>\n",
       "      <td>0.107653</td>\n",
       "    </tr>\n",
       "    <tr>\n",
       "      <th>B</th>\n",
       "      <td>1.0</td>\n",
       "      <td>2550.25</td>\n",
       "      <td>2550.25</td>\n",
       "      <td>208.183673</td>\n",
       "      <td>0.044052</td>\n",
       "    </tr>\n",
       "    <tr>\n",
       "      <th>Residual</th>\n",
       "      <td>1.0</td>\n",
       "      <td>12.25</td>\n",
       "      <td>12.25</td>\n",
       "      <td>NaN</td>\n",
       "      <td>NaN</td>\n",
       "    </tr>\n",
       "  </tbody>\n",
       "</table>\n",
       "</div>"
      ],
      "text/plain": [
       "           df   sum_sq  mean_sq           F    PR(>F)\n",
       "A         1.0   420.25   420.25   34.306122  0.107653\n",
       "B         1.0  2550.25  2550.25  208.183673  0.044052\n",
       "Residual  1.0    12.25    12.25         NaN       NaN"
      ]
     },
     "execution_count": 9,
     "metadata": {},
     "output_type": "execute_result"
    }
   ],
   "source": [
    "mod = ols('resultados~A+B', p).fit()\n",
    "anova = sm.stats.anova_lm(mod)\n",
    "anova"
   ]
  },
  {
   "cell_type": "markdown",
   "id": "861db4f6",
   "metadata": {},
   "source": [
    "Se ve que C es un factor que tiene cierto peso en en el los resultados porque un factor de su alias es estadisticamente significativo (menor a 0.05), pero no se puede concluir que sea un factor principal."
   ]
  }
 ],
 "metadata": {
  "kernelspec": {
   "display_name": "Python 3",
   "language": "python",
   "name": "python3"
  },
  "language_info": {
   "codemirror_mode": {
    "name": "ipython",
    "version": 3
   },
   "file_extension": ".py",
   "mimetype": "text/x-python",
   "name": "python",
   "nbconvert_exporter": "python",
   "pygments_lexer": "ipython3",
   "version": "3.7.6"
  }
 },
 "nbformat": 4,
 "nbformat_minor": 5
}
