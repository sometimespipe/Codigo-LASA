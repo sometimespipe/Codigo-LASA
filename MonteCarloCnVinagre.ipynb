{
 "cells": [
  {
   "cell_type": "markdown",
   "id": "acd36523",
   "metadata": {},
   "source": [
    "### Imports"
   ]
  },
  {
   "cell_type": "code",
   "execution_count": 1,
   "id": "16aa4e4d",
   "metadata": {},
   "outputs": [],
   "source": [
    "%matplotlib inline\n",
    "import numpy as np\n",
    "import matplotlib.pyplot as pl"
   ]
  },
  {
   "cell_type": "markdown",
   "id": "c7cb479c",
   "metadata": {},
   "source": [
    "### Magnitudes de los factores para obtener el resultado.\n",
    "Valoración de vinagre con NaOH para obtener su porcentaje de masa en volumen.\n"
   ]
  },
  {
   "cell_type": "code",
   "execution_count": 2,
   "id": "375addd7",
   "metadata": {},
   "outputs": [
    {
     "data": {
      "text/plain": [
       "3.9523423973333345"
      ]
     },
     "execution_count": 2,
     "metadata": {},
     "output_type": "execute_result"
    }
   ],
   "source": [
    "#datos de acidez en vinagre %en masa volumen\n",
    "v_consumido = 0.01345\n",
    "Cn = 0.1468\n",
    "M = 60.052\n",
    "alicuota = 20.00\n",
    "alic1 = 100\n",
    "alic2 = 15\n",
    "fd= alic1/alic2 \n",
    "\n",
    "mv=(v_consumido*Cn*M*fd/alicuota)*100\n",
    "mv #resultado (concentración masa en volumen)"
   ]
  },
  {
   "cell_type": "code",
   "execution_count": 3,
   "id": "cb6ae327",
   "metadata": {},
   "outputs": [
    {
     "data": {
      "text/plain": [
       "Text(0.5, 1.0, 'Distribución de probabilidad del mensurando')"
      ]
     },
     "execution_count": 3,
     "metadata": {},
     "output_type": "execute_result"
    },
    {
     "data": {
      "image/png": "[encoded data removed]",
      "text/plain": [
       "<Figure size 432x288 with 1 Axes>"
      ]
     },
     "metadata": {
      "needs_background": "light"
     },
     "output_type": "display_data"
    }
   ],
   "source": [
    "#Incertidumbres estándar de cada factor empleado.\n",
    "########\n",
    "sigma_v_consumido = 0.03\n",
    "sigma_Cn = 0.0004\n",
    "sigma_M = 0.001\n",
    "sigma_alicuota = 0.02\n",
    "sigma_fd_I = 0.04\n",
    "sigma_fd_II=0.01\n",
    "########\n",
    "\n",
    "N=1000000 #cantidad de iteraciones\n",
    "\n",
    "#Definición de los parámetros dentro de los cuales las iteraciones van a ocurrir\n",
    "v_consumidoMC = v_consumido + sigma_v_consumido*np.random.triangular(0.029, 0.03, 0.031, N) #triangular(inferior, valor central, superior, iteraciones)\n",
    "CnMC = Cn + sigma_Cn*np.random.normal(loc=Cn, scale=sigma_Cn, size=N)\n",
    "MMC = M + sigma_M*np.random.uniform(0.0009, 0.0012, N) \n",
    "alicuotaMC = alicuota + sigma_alicuota*np.random.triangular(19,20,21,N)\n",
    "alic1MC = alic1 + sigma_fd_I*np.random.triangular(99,100,101, N) \n",
    "alic2MC = alic2 + sigma_fd_II*np.random.triangular(14, 15, 16, N)\n",
    "\n",
    "\n",
    "mvMC = (v_consumidoMC*CnMC*MMC*alic1MC*100/(alicuotaMC*alic2MC)) #Obtención de la incertidumbre estándar combinada.\n",
    "\n",
    "pl.hist(mvMC,bins=50)\n",
    "pl.grid()\n",
    "pl.title(\"Distribución de probabilidad del mensurando\")\n",
    "#pl.xlim(0,5)\n"
   ]
  },
  {
   "cell_type": "code",
   "execution_count": 4,
   "id": "78e1256b",
   "metadata": {},
   "outputs": [
    {
     "name": "stdout",
     "output_type": "stream",
     "text": [
      "0.008460211831802249 4.258628196358314\n"
     ]
    }
   ],
   "source": [
    "print(2*mvMC.std(), mvMC.mean()) #incertidumbre estándar combinada y expandida k=2, y Concentración más probable"
   ]
  }
 ],
 "metadata": {
  "kernelspec": {
   "display_name": "Python 3",
   "language": "python",
   "name": "python3"
  },
  "language_info": {
   "codemirror_mode": {
    "name": "ipython",
    "version": 3
   },
   "file_extension": ".py",
   "mimetype": "text/x-python",
   "name": "python",
   "nbconvert_exporter": "python",
   "pygments_lexer": "ipython3",
   "version": "3.8.8"
  }
 },
 "nbformat": 4,
 "nbformat_minor": 5
}
