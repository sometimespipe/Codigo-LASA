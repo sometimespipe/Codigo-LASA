{
 "cells": [
  {
   "cell_type": "markdown",
   "id": "4f6ef688",
   "metadata": {},
   "source": [
    "### Imports"
   ]
  },
  {
   "cell_type": "code",
   "execution_count": 1,
   "id": "741cc1d7",
   "metadata": {},
   "outputs": [],
   "source": [
    "import pandas as pd\n",
    "import statsmodels.api as sm\n",
    "from statsmodels.formula.api import ols\n",
    "from statsmodels.stats.anova import AnovaRM\n",
    "from statsmodels.graphics.factorplots import interaction_plot\n",
    "import matplotlib.pyplot as plt"
   ]
  },
  {
   "cell_type": "markdown",
   "id": "ca4e4533",
   "metadata": {},
   "source": [
    "### Implementación de ANOVA de dos factores\n",
    "#### Caso donde se estudia la interacción entre dos niveles de temperatura y dos niveles de disolución."
   ]
  },
  {
   "cell_type": "markdown",
   "id": "a64cc657",
   "metadata": {},
   "source": [
    "1. En primer lugar se debe hacer un dataframe, o sea, importar los datos de la tabla de excel, en formato csv, preferiblemente. (también se acepta txt)\n",
    "2. Los datos deben estar balanceados, es decir, haber tomado la misma cantidad de réplicas para cada tratamiento de cada nivel.\n",
    "3. Luego pasar un print statement del dataframe para cerciorarse que se importaron los datos correctamente."
   ]
  },
  {
   "cell_type": "code",
   "execution_count": 2,
   "id": "81f71567",
   "metadata": {},
   "outputs": [
    {
     "name": "stdout",
     "output_type": "stream",
     "text": [
      "    Replica  Temperatura Disolucion  Resultado\n",
      "0         1           25       NaCl    138.400\n",
      "1         2           25       NaCl    130.890\n",
      "2         3           25       NaCl     94.646\n",
      "3         4           25       NaCl     96.653\n",
      "4         5           25       NaCl    116.900\n",
      "5         6           25       NaCl     88.215\n",
      "6         1           25    Fosfato    120.180\n",
      "7         2           25    Fosfato    129.430\n",
      "8         3           25    Fosfato    139.760\n",
      "9         4           25    Fosfato    132.750\n",
      "10        5           25    Fosfato    137.230\n",
      "11        6           25    Fosfato    121.730\n",
      "12        1           37       NaCl     92.312\n",
      "13        2           37       NaCl    147.280\n",
      "14        3           37       NaCl    116.480\n",
      "15        4           37       NaCl     88.802\n",
      "16        5           37       NaCl    114.370\n",
      "17        6           37       NaCl     90.737\n",
      "18        1           37    Fosfato    123.500\n",
      "19        2           37    Fosfato    128.940\n",
      "20        3           37    Fosfato    102.860\n",
      "21        4           37    Fosfato     99.941\n",
      "22        5           37    Fosfato    161.680\n",
      "23        6           37    Fosfato    136.440\n"
     ]
    },
    {
     "data": {
      "text/plain": [
       "'Note que la columna izquierda se agregó automáticamente e indica el orden de las filas, y cada columna se encuentra separada por un espacio en blanco.'"
      ]
     },
     "execution_count": 2,
     "metadata": {},
     "output_type": "execute_result"
    }
   ],
   "source": [
    "df = pd.read_csv(\"anova.csv\")\n",
    "print(df)\n",
    "\n",
    "\"\"\"Note que la columna izquierda se agregó automáticamente e indica el orden de las filas, y cada columna se encuentra separada por un espacio en blanco.\"\"\"\n"
   ]
  },
  {
   "cell_type": "markdown",
   "id": "b7834d83",
   "metadata": {},
   "source": [
    "### Interacciones\n",
    "Ahora para determinar si realmente existen interacciones entre los factores se hace un gráfico de interacciones. Si se intersecan al menos una vez existen indicios de que sí hay.\n",
    "\n",
    "Se hace con el código de abajo. Primero se ingresa el parámetro que se quiere en el eje x, luego el parámetro que tiene dos niveles, por último el parámetro que va en el eje y"
   ]
  },
  {
   "cell_type": "code",
   "execution_count": 3,
   "id": "20f47d6f",
   "metadata": {},
   "outputs": [
    {
     "data": {
      "image/png": "[encoded data removed]",
      "text/plain": [
       "<Figure size 432x288 with 1 Axes>"
      ]
     },
     "metadata": {
      "needs_background": "light"
     },
     "output_type": "display_data"
    }
   ],
   "source": [
    "fig = interaction_plot(df.Disolucion, df.Temperatura, df.Resultado,\n",
    "             colors=['red','blue'], markers=['D','^'], ms=10)"
   ]
  },
  {
   "cell_type": "markdown",
   "id": "b4c75e7b",
   "metadata": {},
   "source": [
    "### Variables para el ANOVA"
   ]
  },
  {
   "cell_type": "code",
   "execution_count": 5,
   "id": "5c81d159",
   "metadata": {},
   "outputs": [
    {
     "name": "stdout",
     "output_type": "stream",
     "text": [
      "                       Anova\n",
      "===================================================\n",
      "                       F Value Num DF Den DF Pr > F\n",
      "---------------------------------------------------\n",
      "Temperatura             0.3554 1.0000 5.0000 0.5770\n",
      "Disolucion              5.9893 1.0000 5.0000 0.0581\n",
      "Temperatura:Disolucion  0.0157 1.0000 5.0000 0.9052\n",
      "===================================================\n",
      "\n"
     ]
    },
    {
     "data": {
      "text/plain": [
       "'F value es el valor F; Num DF son los grados de libertad de cada número; Den DF son los grados libertad en la diferencia de cuadrados y Pr es el p-value correspondiente para aceptar o rechazar la hipotesis nula'"
      ]
     },
     "execution_count": 5,
     "metadata": {},
     "output_type": "execute_result"
    }
   ],
   "source": [
    "# ANOVA\n",
    "df.head()\n",
    "\n",
    "ANOVA = AnovaRM(df, 'Resultado', 'Replica', within =['Temperatura', 'Disolucion'])\n",
    "Resultados = ANOVA.fit()\n",
    "\n",
    "print(Resultados)\n",
    "\"\"\"F value es el valor F; Num DF son los grados de libertad de cada número; Den DF son los grados libertad en la diferencia de cuadrados y Pr es el p-value correspondiente para aceptar o rechazar la hipotesis nula\"\"\"\n"
   ]
  },
  {
   "cell_type": "code",
   "execution_count": null,
   "id": "ee71b078",
   "metadata": {},
   "outputs": [],
   "source": []
  }
 ],
 "metadata": {
  "kernelspec": {
   "display_name": "Python 3",
   "language": "python",
   "name": "python3"
  },
  "language_info": {
   "codemirror_mode": {
    "name": "ipython",
    "version": 3
   },
   "file_extension": ".py",
   "mimetype": "text/x-python",
   "name": "python",
   "nbconvert_exporter": "python",
   "pygments_lexer": "ipython3",
   "version": "3.7.6"
  }
 },
 "nbformat": 4,
 "nbformat_minor": 5
}
