{
 "cells": [
  {
   "cell_type": "markdown",
   "id": "4f6ef688",
   "metadata": {},
   "source": [
    "### Imports"
   ]
  },
  {
   "cell_type": "code",
   "execution_count": 1,
   "id": "741cc1d7",
   "metadata": {},
   "outputs": [],
   "source": [
    "import pandas as pd\n",
    "import statsmodels.api as sm\n",
    "from statsmodels.formula.api import ols\n",
    "from statsmodels.stats.anova import anova_lm\n",
    "from statsmodels.graphics.factorplots import interaction_plot\n",
    "import matplotlib.pyplot as plt"
   ]
  },
  {
   "cell_type": "markdown",
   "id": "ca4e4533",
   "metadata": {},
   "source": [
    "### Implementación de ANOVA de dos factores\n",
    "#### Caso donde se estudia la interacción entre dos niveles de temperatura y dos niveles de disolución."
   ]
  },
  {
   "cell_type": "markdown",
   "id": "a64cc657",
   "metadata": {},
   "source": [
    "1. En primer lugar se debe hacer un dataframe, o sea, importar los datos de la tabla de excel, en formato csv, preferiblemente. (también se acepta txt)\n",
    "2. Luego pasar un print statement del dataframe para cerciorarse que se importaron los datos correctamente."
   ]
  },
  {
   "cell_type": "code",
   "execution_count": 2,
   "id": "81f71567",
   "metadata": {},
   "outputs": [
    {
     "name": "stdout",
     "output_type": "stream",
     "text": [
      "    Temperatura     NaCl  Fosfato\n",
      "0            25  138.400  120.180\n",
      "1            25  130.890  129.430\n",
      "2            25   94.646  139.760\n",
      "3            25   96.653  132.750\n",
      "4            25  116.900  137.230\n",
      "5            25   88.215  121.730\n",
      "6            37   92.312  123.500\n",
      "7            37  147.280  128.940\n",
      "8            37  116.480  102.860\n",
      "9            37   88.802   99.941\n",
      "10           37  114.370  161.680\n",
      "11           37   90.737  136.440\n"
     ]
    },
    {
     "data": {
      "text/plain": [
       "'Note que la columna izquierda se agregó automáticamente e indica el orden de las filas, y cada columna se encuentra separada por un espacio en blanco.'"
      ]
     },
     "execution_count": 2,
     "metadata": {},
     "output_type": "execute_result"
    }
   ],
   "source": [
    "df = pd.read_csv(\"anova.csv\")\n",
    "print(df)\n",
    "\n",
    "\"\"\"Note que la columna izquierda se agregó automáticamente e indica el orden de las filas, y cada columna se encuentra separada por un espacio en blanco.\"\"\"\n"
   ]
  },
  {
   "cell_type": "markdown",
   "id": "b7834d83",
   "metadata": {},
   "source": [
    "### Interacciones\n",
    "Ahora para determinar si realmente existen interacciones entre los factores se hace un gráfico de interacciones. Si se intersecan al menos una vez existen indicios de que sí hay.\n",
    "\n",
    "Se hace con el código de abajo. Primero se ingresa el parámetro que se quiere en el eje x, luego el parámetro que tiene dos niveles, por último el parámetro que va en el eje y"
   ]
  },
  {
   "cell_type": "code",
   "execution_count": 3,
   "id": "20f47d6f",
   "metadata": {},
   "outputs": [
    {
     "data": {
      "image/png": "[encoded data removed]",
      "text/plain": [
       "<Figure size 432x288 with 1 Axes>"
      ]
     },
     "metadata": {
      "needs_background": "light"
     },
     "output_type": "display_data"
    }
   ],
   "source": [
    "fig = interaction_plot(df.NaCl, df.Temperatura, df.Fosfato,\n",
    "             colors=['red','blue'], markers=['D','^'], ms=10)"
   ]
  },
  {
   "cell_type": "markdown",
   "id": "b4c75e7b",
   "metadata": {},
   "source": [
    "### Variables para el ANOVA"
   ]
  },
  {
   "cell_type": "code",
   "execution_count": 4,
   "id": "5c81d159",
   "metadata": {},
   "outputs": [
    {
     "name": "stdout",
     "output_type": "stream",
     "text": [
      "               df      sum_sq    mean_sq         F    PR(>F)\n",
      "NaCl          1.0    1.869027   1.869027  0.038318  0.849687\n",
      "Fosfato       1.0    8.652937   8.652937  0.177398  0.684707\n",
      "NaCl:Fosfato  1.0   31.262869  31.262869  0.640936  0.446494\n",
      "Residual      8.0  390.215168  48.776896       NaN       NaN\n"
     ]
    },
    {
     "data": {
      "text/plain": [
       "'df equivale a los grados de libertad; sum_sq es suma de cuadrados; mean_sq es el promedio de cuadrados; F es el valor F y PR es el p-value'"
      ]
     },
     "execution_count": 4,
     "metadata": {},
     "output_type": "execute_result"
    }
   ],
   "source": [
    "# ANOVA\n",
    "mod = ols('Temperatura~NaCl+Fosfato+NaCl*Fosfato', data=df).fit()\n",
    "anova = sm.stats.anova_lm(mod, type=2)\n",
    "print(anova)\n",
    "\n",
    "\"\"\"df equivale a los grados de libertad; sum_sq es suma de cuadrados; mean_sq es el promedio de cuadrados; F es el valor F y PR es el p-value\"\"\""
   ]
  },
  {
   "cell_type": "code",
   "execution_count": null,
   "id": "ee71b078",
   "metadata": {},
   "outputs": [],
   "source": []
  }
 ],
 "metadata": {
  "kernelspec": {
   "display_name": "Python 3",
   "language": "python",
   "name": "python3"
  },
  "language_info": {
   "codemirror_mode": {
    "name": "ipython",
    "version": 3
   },
   "file_extension": ".py",
   "mimetype": "text/x-python",
   "name": "python",
   "nbconvert_exporter": "python",
   "pygments_lexer": "ipython3",
   "version": "3.7.6"
  }
 },
 "nbformat": 4,
 "nbformat_minor": 5
}
