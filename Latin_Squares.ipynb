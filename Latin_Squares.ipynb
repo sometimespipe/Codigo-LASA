{
 "cells": [
  {
   "cell_type": "markdown",
   "id": "b84f1900",
   "metadata": {},
   "source": [
    "### Imports"
   ]
  },
  {
   "cell_type": "code",
   "execution_count": 1,
   "id": "1e6d7b96",
   "metadata": {},
   "outputs": [],
   "source": [
    "import pandas as pd\n",
    "import statsmodels.api as sm\n",
    "from statsmodels.formula.api import ols\n",
    "from statsmodels.stats.anova import anova_lm\n",
    "from statsmodels.graphics.factorplots import interaction_plot\n",
    "import matplotlib.pyplot as plt"
   ]
  },
  {
   "cell_type": "markdown",
   "id": "b27f4d54",
   "metadata": {},
   "source": [
    "### Implementación de ANOVA\n",
    "\n",
    "1. En primer lugar se debe hacer un dataframe, o sea, importar los datos de la tabla de excel,en formato csv, preferiblemente. (también se acepta txt)\n",
    "2. Luego pasar un print statement del dataframe para cerciorarse que se importaron los datoscorrectamente."
   ]
  },
  {
   "cell_type": "code",
   "execution_count": 2,
   "id": "a8e4aee4",
   "metadata": {},
   "outputs": [
    {
     "name": "stdout",
     "output_type": "stream",
     "text": [
      "   Celda Fila Columna  Resultados\n",
      "0      A    a       I       64.16\n",
      "1      A    b      IV       66.42\n",
      "2      A    c     III       62.73\n",
      "3      A    d      II       56.79\n",
      "4      B    a      II       53.13\n",
      "5      B    b       I       51.94\n",
      "6      B    c      IV       54.94\n",
      "7      B    d     III       58.05\n",
      "8      C    a     III       49.02\n",
      "9      C    b      II       49.60\n",
      "10     C    c       I       52.54\n",
      "11     C    d      IV       53.73\n",
      "12     D    a      IV       34.45\n",
      "13     D    b      II       31.31\n",
      "14     D    c     III       25.84\n",
      "15     D    d       I       29.33\n"
     ]
    }
   ],
   "source": [
    "df = pd.read_csv(\"latin_square.csv\")\n",
    "\n",
    "print(df)"
   ]
  },
  {
   "cell_type": "code",
   "execution_count": 3,
   "id": "ba0f7dd2",
   "metadata": {},
   "outputs": [
    {
     "data": {
      "text/html": [
       "<div>\n",
       "<style scoped>\n",
       "    .dataframe tbody tr th:only-of-type {\n",
       "        vertical-align: middle;\n",
       "    }\n",
       "\n",
       "    .dataframe tbody tr th {\n",
       "        vertical-align: top;\n",
       "    }\n",
       "\n",
       "    .dataframe thead th {\n",
       "        text-align: right;\n",
       "    }\n",
       "</style>\n",
       "<table border=\"1\" class=\"dataframe\">\n",
       "  <thead>\n",
       "    <tr style=\"text-align: right;\">\n",
       "      <th></th>\n",
       "      <th>df</th>\n",
       "      <th>sum_sq</th>\n",
       "      <th>mean_sq</th>\n",
       "      <th>F</th>\n",
       "      <th>PR(&gt;F)</th>\n",
       "    </tr>\n",
       "  </thead>\n",
       "  <tbody>\n",
       "    <tr>\n",
       "      <th>Celda</th>\n",
       "      <td>3.0</td>\n",
       "      <td>2275.772625</td>\n",
       "      <td>758.590875</td>\n",
       "      <td>62.970921</td>\n",
       "      <td>0.000063</td>\n",
       "    </tr>\n",
       "    <tr>\n",
       "      <th>Fila</th>\n",
       "      <td>3.0</td>\n",
       "      <td>3.015725</td>\n",
       "      <td>1.005242</td>\n",
       "      <td>0.083445</td>\n",
       "      <td>0.966593</td>\n",
       "    </tr>\n",
       "    <tr>\n",
       "      <th>Columna</th>\n",
       "      <td>3.0</td>\n",
       "      <td>51.270112</td>\n",
       "      <td>17.090037</td>\n",
       "      <td>1.418651</td>\n",
       "      <td>0.326550</td>\n",
       "    </tr>\n",
       "    <tr>\n",
       "      <th>Residual</th>\n",
       "      <td>6.0</td>\n",
       "      <td>72.280112</td>\n",
       "      <td>12.046685</td>\n",
       "      <td>NaN</td>\n",
       "      <td>NaN</td>\n",
       "    </tr>\n",
       "  </tbody>\n",
       "</table>\n",
       "</div>"
      ],
      "text/plain": [
       "           df       sum_sq     mean_sq          F    PR(>F)\n",
       "Celda     3.0  2275.772625  758.590875  62.970921  0.000063\n",
       "Fila      3.0     3.015725    1.005242   0.083445  0.966593\n",
       "Columna   3.0    51.270112   17.090037   1.418651  0.326550\n",
       "Residual  6.0    72.280112   12.046685        NaN       NaN"
      ]
     },
     "execution_count": 3,
     "metadata": {},
     "output_type": "execute_result"
    }
   ],
   "source": [
    "mod = ols('Resultados ~ Celda + Fila + Columna ', data=df).fit()\n",
    "anova = sm.stats.anova_lm(mod)\n",
    "anova"
   ]
  },
  {
   "cell_type": "markdown",
   "id": "e8662ece",
   "metadata": {},
   "source": [
    "Hay una discrepancia entre la significancia de las celdas (resultados experimentales) respecto a las filas y columnas. Esto quiere decir que hay ciertos factores tanto en las filas como en las columnas que provocan que a primera vista no sean significativos, por lo que se procede a realizar una prueba t"
   ]
  },
  {
   "cell_type": "code",
   "execution_count": 4,
   "id": "c61f0d35",
   "metadata": {
    "scrolled": true
   },
   "outputs": [
    {
     "name": "stderr",
     "output_type": "stream",
     "text": [
      "/opt/anaconda3/lib/python3.7/site-packages/scipy/stats/stats.py:1604: UserWarning: kurtosistest only valid for n>=20 ... continuing anyway, n=16\n",
      "  \"anyway, n=%i\" % int(n))\n"
     ]
    },
    {
     "data": {
      "text/html": [
       "<table class=\"simpletable\">\n",
       "<caption>OLS Regression Results</caption>\n",
       "<tr>\n",
       "  <th>Dep. Variable:</th>       <td>Resultados</td>    <th>  R-squared:         </th> <td>   0.970</td>\n",
       "</tr>\n",
       "<tr>\n",
       "  <th>Model:</th>                   <td>OLS</td>       <th>  Adj. R-squared:    </th> <td>   0.925</td>\n",
       "</tr>\n",
       "<tr>\n",
       "  <th>Method:</th>             <td>Least Squares</td>  <th>  F-statistic:       </th> <td>   21.49</td>\n",
       "</tr>\n",
       "<tr>\n",
       "  <th>Date:</th>             <td>Fri, 09 Jul 2021</td> <th>  Prob (F-statistic):</th> <td>0.000674</td>\n",
       "</tr>\n",
       "<tr>\n",
       "  <th>Time:</th>                 <td>22:27:41</td>     <th>  Log-Likelihood:    </th> <td> -34.767</td>\n",
       "</tr>\n",
       "<tr>\n",
       "  <th>No. Observations:</th>      <td>    16</td>      <th>  AIC:               </th> <td>   89.53</td>\n",
       "</tr>\n",
       "<tr>\n",
       "  <th>Df Residuals:</th>          <td>     6</td>      <th>  BIC:               </th> <td>   97.26</td>\n",
       "</tr>\n",
       "<tr>\n",
       "  <th>Df Model:</th>              <td>     9</td>      <th>                     </th>     <td> </td>   \n",
       "</tr>\n",
       "<tr>\n",
       "  <th>Covariance Type:</th>      <td>nonrobust</td>    <th>                     </th>     <td> </td>   \n",
       "</tr>\n",
       "</table>\n",
       "<table class=\"simpletable\">\n",
       "<tr>\n",
       "         <td></td>           <th>coef</th>     <th>std err</th>      <th>t</th>      <th>P>|t|</th>  <th>[0.025</th>    <th>0.975]</th>  \n",
       "</tr>\n",
       "<tr>\n",
       "  <th>Intercept</th>      <td>   62.9600</td> <td>    2.744</td> <td>   22.945</td> <td> 0.000</td> <td>   56.246</td> <td>   69.674</td>\n",
       "</tr>\n",
       "<tr>\n",
       "  <th>Celda[T.B]</th>     <td>   -8.0100</td> <td>    2.454</td> <td>   -3.264</td> <td> 0.017</td> <td>  -14.015</td> <td>   -2.005</td>\n",
       "</tr>\n",
       "<tr>\n",
       "  <th>Celda[T.C]</th>     <td>  -11.3025</td> <td>    2.454</td> <td>   -4.605</td> <td> 0.004</td> <td>  -17.308</td> <td>   -5.297</td>\n",
       "</tr>\n",
       "<tr>\n",
       "  <th>Celda[T.D]</th>     <td>  -32.2925</td> <td>    2.454</td> <td>  -13.158</td> <td> 0.000</td> <td>  -38.298</td> <td>  -26.287</td>\n",
       "</tr>\n",
       "<tr>\n",
       "  <th>Fila[T.b]</th>      <td>    0.1625</td> <td>    2.554</td> <td>    0.064</td> <td> 0.951</td> <td>   -6.088</td> <td>    6.413</td>\n",
       "</tr>\n",
       "<tr>\n",
       "  <th>Fila[T.c]</th>      <td>   -1.7125</td> <td>    2.554</td> <td>   -0.670</td> <td> 0.528</td> <td>   -7.963</td> <td>    4.538</td>\n",
       "</tr>\n",
       "<tr>\n",
       "  <th>Fila[T.d]</th>      <td>   -0.7150</td> <td>    2.454</td> <td>   -0.291</td> <td> 0.781</td> <td>   -6.720</td> <td>    5.290</td>\n",
       "</tr>\n",
       "<tr>\n",
       "  <th>Columna[T.II]</th>  <td>   -2.2538</td> <td>    2.554</td> <td>   -0.882</td> <td> 0.412</td> <td>   -8.504</td> <td>    3.997</td>\n",
       "</tr>\n",
       "<tr>\n",
       "  <th>Columna[T.III]</th> <td>   -0.1138</td> <td>    2.554</td> <td>   -0.045</td> <td> 0.966</td> <td>   -6.364</td> <td>    6.137</td>\n",
       "</tr>\n",
       "<tr>\n",
       "  <th>Columna[T.IV]</th>  <td>    2.8925</td> <td>    2.454</td> <td>    1.179</td> <td> 0.283</td> <td>   -3.113</td> <td>    8.898</td>\n",
       "</tr>\n",
       "</table>\n",
       "<table class=\"simpletable\">\n",
       "<tr>\n",
       "  <th>Omnibus:</th>       <td> 0.553</td> <th>  Durbin-Watson:     </th> <td>   2.579</td>\n",
       "</tr>\n",
       "<tr>\n",
       "  <th>Prob(Omnibus):</th> <td> 0.759</td> <th>  Jarque-Bera (JB):  </th> <td>   0.568</td>\n",
       "</tr>\n",
       "<tr>\n",
       "  <th>Skew:</th>          <td>-0.030</td> <th>  Prob(JB):          </th> <td>   0.753</td>\n",
       "</tr>\n",
       "<tr>\n",
       "  <th>Kurtosis:</th>      <td> 2.079</td> <th>  Cond. No.          </th> <td>    6.34</td>\n",
       "</tr>\n",
       "</table><br/><br/>Notes:<br/>[1] Standard Errors assume that the covariance matrix of the errors is correctly specified."
      ],
      "text/plain": [
       "<class 'statsmodels.iolib.summary.Summary'>\n",
       "\"\"\"\n",
       "                            OLS Regression Results                            \n",
       "==============================================================================\n",
       "Dep. Variable:             Resultados   R-squared:                       0.970\n",
       "Model:                            OLS   Adj. R-squared:                  0.925\n",
       "Method:                 Least Squares   F-statistic:                     21.49\n",
       "Date:                Fri, 09 Jul 2021   Prob (F-statistic):           0.000674\n",
       "Time:                        22:27:41   Log-Likelihood:                -34.767\n",
       "No. Observations:                  16   AIC:                             89.53\n",
       "Df Residuals:                       6   BIC:                             97.26\n",
       "Df Model:                           9                                         \n",
       "Covariance Type:            nonrobust                                         \n",
       "==================================================================================\n",
       "                     coef    std err          t      P>|t|      [0.025      0.975]\n",
       "----------------------------------------------------------------------------------\n",
       "Intercept         62.9600      2.744     22.945      0.000      56.246      69.674\n",
       "Celda[T.B]        -8.0100      2.454     -3.264      0.017     -14.015      -2.005\n",
       "Celda[T.C]       -11.3025      2.454     -4.605      0.004     -17.308      -5.297\n",
       "Celda[T.D]       -32.2925      2.454    -13.158      0.000     -38.298     -26.287\n",
       "Fila[T.b]          0.1625      2.554      0.064      0.951      -6.088       6.413\n",
       "Fila[T.c]         -1.7125      2.554     -0.670      0.528      -7.963       4.538\n",
       "Fila[T.d]         -0.7150      2.454     -0.291      0.781      -6.720       5.290\n",
       "Columna[T.II]     -2.2538      2.554     -0.882      0.412      -8.504       3.997\n",
       "Columna[T.III]    -0.1138      2.554     -0.045      0.966      -6.364       6.137\n",
       "Columna[T.IV]      2.8925      2.454      1.179      0.283      -3.113       8.898\n",
       "==============================================================================\n",
       "Omnibus:                        0.553   Durbin-Watson:                   2.579\n",
       "Prob(Omnibus):                  0.759   Jarque-Bera (JB):                0.568\n",
       "Skew:                          -0.030   Prob(JB):                        0.753\n",
       "Kurtosis:                       2.079   Cond. No.                         6.34\n",
       "==============================================================================\n",
       "\n",
       "Notes:\n",
       "[1] Standard Errors assume that the covariance matrix of the errors is correctly specified.\n",
       "\"\"\""
      ]
     },
     "execution_count": 4,
     "metadata": {},
     "output_type": "execute_result"
    }
   ],
   "source": [
    "mod.summary()"
   ]
  },
  {
   "cell_type": "code",
   "execution_count": 5,
   "id": "60f48981",
   "metadata": {},
   "outputs": [],
   "source": [
    "from scipy.stats import t"
   ]
  },
  {
   "cell_type": "code",
   "execution_count": 6,
   "id": "46fc7178",
   "metadata": {},
   "outputs": [
    {
     "data": {
      "text/plain": [
       "0.810603896837679"
      ]
     },
     "execution_count": 6,
     "metadata": {},
     "output_type": "execute_result"
    }
   ],
   "source": [
    "t_test = t.cdf(0.95, 6)\n",
    "# cdf = cumulative density function , donde el primer argumento es el valor p que se quiere y el segundo\n",
    "# la sumatoria de grados de libertad \n",
    "t_test"
   ]
  },
  {
   "cell_type": "markdown",
   "id": "9b516a57",
   "metadata": {},
   "source": [
    "Se ve que el factor fila b y el factor columna III corresponden a los factores que no dan resultados estadísticamente significativos."
   ]
  }
 ],
 "metadata": {
  "kernelspec": {
   "display_name": "Python 3",
   "language": "python",
   "name": "python3"
  },
  "language_info": {
   "codemirror_mode": {
    "name": "ipython",
    "version": 3
   },
   "file_extension": ".py",
   "mimetype": "text/x-python",
   "name": "python",
   "nbconvert_exporter": "python",
   "pygments_lexer": "ipython3",
   "version": "3.7.6"
  }
 },
 "nbformat": 4,
 "nbformat_minor": 5
}
